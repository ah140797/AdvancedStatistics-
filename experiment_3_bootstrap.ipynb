{
 "cells": [
  {
   "cell_type": "code",
   "execution_count": 59,
   "metadata": {},
   "outputs": [],
   "source": [
    "import pandas as pd\n",
    "import matplotlib.pyplot as plt\n",
    "import numpy as np\n",
    "import pyarrow as pa\n",
    "import pyarrow.parquet as pq\n",
    "import itertools"
   ]
  },
  {
   "cell_type": "code",
   "execution_count": 3,
   "metadata": {},
   "outputs": [],
   "source": [
    "gender = pd.read_parquet('./data/gender_multilevel.parquet')\n",
    "ethnicity = pd.read_parquet('./data/ethnicity_multilevel.parquet')\n",
    "adjusted = pd.read_parquet('./data/adjusted_multilevel.parquet')"
   ]
  },
  {
   "cell_type": "code",
   "execution_count": 51,
   "metadata": {},
   "outputs": [],
   "source": [
    "gender.rename(columns={\n",
    "    'beta_Gender_Male_sigma': 'Male',\n",
    "    'beta_Gender_Female_sigma': 'Female'\n",
    "}, inplace=True)\n",
    "\n",
    "ethnicity.rename(columns={\n",
    "    \"beta_Ethnicity_White_sigma\": \"White\",\n",
    "    \"beta_Ethnicity_Asian_sigma\": \"Asian\", \n",
    "    \"beta_Ethnicity_Hispanic_sigma\": \"Hispanic\",\n",
    "    \"beta_Ethnicity_Mixed_sigma\": \"Mixed\"\n",
    "}, inplace=True)"
   ]
  },
  {
   "cell_type": "code",
   "execution_count": 53,
   "metadata": {},
   "outputs": [],
   "source": [
    "column_combinations_gender = list(itertools.combinations(gender[['Male', 'Female']].columns, 2))\n",
    "column_combinations_ethnicity = list(itertools.combinations(ethnicity[['White', 'Asian', 'Hispanic', 'Mixed']].columns, 2))"
   ]
  },
  {
   "cell_type": "code",
   "execution_count": 54,
   "metadata": {},
   "outputs": [],
   "source": [
    "def bootstrap(data1, data2):\n",
    "    B = 10000\n",
    "\n",
    "    bootstrapped_medians_diffs = np.zeros(B)\n",
    "\n",
    "    # Perform bootstrapping\n",
    "    for i in range(B):\n",
    "        # Generate a bootstrap sample by sampling with replacement\n",
    "        bootstrap_sample1 = np.random.choice(data1, size=len(data1), replace=True)\n",
    "        bootstrap_sample2 = np.random.choice(data2, size=len(data2), replace=True)\n",
    "\n",
    "        # Calculate the mean of the bootstrap sample\n",
    "        bootstrapped_medians_diffs[i] = np.median(bootstrap_sample1) - np.median(bootstrap_sample2)\n",
    "\n",
    "    return bootstrapped_medians_diffs"
   ]
  },
  {
   "cell_type": "code",
   "execution_count": 55,
   "metadata": {},
   "outputs": [
    {
     "data": {
      "text/plain": [
       "[('Male', 'Female')]"
      ]
     },
     "execution_count": 55,
     "metadata": {},
     "output_type": "execute_result"
    }
   ],
   "source": [
    "column_combinations_gender"
   ]
  },
  {
   "cell_type": "code",
   "execution_count": 58,
   "metadata": {},
   "outputs": [],
   "source": [
    "result_dict = {}\n",
    "for pair in column_combinations_gender:\n",
    "    first = gender[pair[0]]\n",
    "    second = gender[pair[1]]\n",
    "    diff = bootstrap(first, second)\n",
    "    result_dict[str(pair[0])+' - '+str(pair[1])] = diff\n",
    "    \n",
    "for pair in column_combinations_ethnicity:\n",
    "    first = ethnicity[pair[0]]\n",
    "    second = ethnicity[pair[1]]\n",
    "    diff = bootstrap(first, second)\n",
    "    result_dict[str(pair[0])+' - '+str(pair[1])] = diff"
   ]
  },
  {
   "cell_type": "code",
   "execution_count": 60,
   "metadata": {},
   "outputs": [
    {
     "data": {
      "text/plain": [
       "dict_keys(['Male-Female', 'White-Asian', 'White-Hispanic', 'White-Mixed', 'Asian-Hispanic', 'Asian-Mixed', 'Hispanic-Mixed'])"
      ]
     },
     "execution_count": 60,
     "metadata": {},
     "output_type": "execute_result"
    }
   ],
   "source": [
    "result_dict.keys()"
   ]
  },
  {
   "cell_type": "code",
   "execution_count": 13,
   "metadata": {},
   "outputs": [
    {
     "data": {
      "text/plain": [
       "(array([  18.,  181.,  769., 1839., 2798., 2459., 1348.,  487.,   86.,\n",
       "          15.]),\n",
       " array([-0.00182934, -0.00052522,  0.00077891,  0.00208303,  0.00338716,\n",
       "         0.00469128,  0.00599541,  0.00729953,  0.00860366,  0.00990778,\n",
       "         0.01121191]),\n",
       " <BarContainer object of 10 artists>)"
      ]
     },
     "execution_count": 13,
     "metadata": {},
     "output_type": "execute_result"
    },
    {
     "data": {
      "image/png": "[encoded data removed]",
      "text/plain": [
       "<Figure size 432x288 with 1 Axes>"
      ]
     },
     "metadata": {
      "needs_background": "light"
     },
     "output_type": "display_data"
    }
   ],
   "source": [
    "result_df = pd.DataFrame(result_dict)\n",
    "table = pa.Table.from_pandas(result_df)\n",
    "pq.write_table(result_df, 'experiment_3_bootstrap.parquet')"
   ]
  },
  {
   "cell_type": "code",
   "execution_count": null,
   "metadata": {},
   "outputs": [],
   "source": []
  },
  {
   "cell_type": "code",
   "execution_count": null,
   "metadata": {},
   "outputs": [],
   "source": []
  },
  {
   "cell_type": "code",
   "execution_count": null,
   "metadata": {},
   "outputs": [],
   "source": []
  }
 ],
 "metadata": {
  "kernelspec": {
   "display_name": "Python 3",
   "language": "python",
   "name": "python3"
  },
  "language_info": {
   "codemirror_mode": {
    "name": "ipython",
    "version": 3
   },
   "file_extension": ".py",
   "mimetype": "text/x-python",
   "name": "python",
   "nbconvert_exporter": "python",
   "pygments_lexer": "ipython3",
   "version": "3.11.5"
  }
 },
 "nbformat": 4,
 "nbformat_minor": 2
}
