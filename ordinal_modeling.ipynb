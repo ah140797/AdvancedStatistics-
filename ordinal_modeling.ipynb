{
 "cells": [
  {
   "cell_type": "code",
   "execution_count": null,
   "metadata": {},
   "outputs": [],
   "source": [
    "import pymc as pm\n",
    "import arviz as az\n",
    "import pandas as pd\n",
    "import matplotlib.pyplot as plt\n",
    "import seaborn as sns\n",
    "from sklearn.model_selection import StratifiedKFold\n",
    "import numpy as np\n",
    "import xarray as xr\n",
    "from ridgeplot import ridgeplot\n",
    "import plotly.express as px\n",
    "import warnings"
   ]
  },
  {
   "cell_type": "code",
   "execution_count": null,
   "metadata": {},
   "outputs": [],
   "source": [
    "RANDOM_SEED = 8927\n",
    "rng = np.random.default_rng(RANDOM_SEED)\n",
    "az.style.use(\"arviz-darkgrid\")\n",
    "warnings.simplefilter(action=\"ignore\", category=FutureWarning)"
   ]
  },
  {
   "cell_type": "code",
   "execution_count": null,
   "metadata": {},
   "outputs": [],
   "source": [
    "df = pd.read_csv(\"./data/writing_center_v2.csv\")\n",
    "df.rename(columns={'Ethnicity_Hispanic / Latino':'Ethnicity_Hispanic', 'Ethnicity_Mixed Ethnicity':'Ethnicity_Mixed','Ethnicity_White, Non-Hispanic':'Ethnicity_White'},inplace=True)\n",
    "df['Main_Course_SuccessFlag'] = df['Main_Course_SuccessFlag'].astype(int).values\n",
    "df['Main_Course_GradePoints'] = df['Main_Course_GradePoints'].astype(int).values"
   ]
  },
  {
   "cell_type": "code",
   "execution_count": null,
   "metadata": {},
   "outputs": [],
   "source": [
    "def plot_parameters(trace, trace_plot=True, forest_plot=True):\n",
    "  '''\n",
    "  Can only be used for multilevel.\n",
    "  '''\n",
    "  var_names = list(trace.posterior.data_vars.keys())[:-1]\n",
    "  if trace_plot:\n",
    "    az.plot_trace(trace, var_names=var_names)\n",
    "  if forest_plot:\n",
    "    az.plot_forest(trace, var_names=var_names, combined=True)"
   ]
  },
  {
   "cell_type": "markdown",
   "metadata": {},
   "source": [
    "# Complete Pooling Ordinal Logistic Regression"
   ]
  },
  {
   "cell_type": "code",
   "execution_count": null,
   "metadata": {},
   "outputs": [],
   "source": [
    "def complete_pooling_ordinal(features, df, save_name:str, rng, cv=False):\n",
    "  coords = {\"obs_id\": df.index.values}\n",
    "\n",
    "  with pm.Model(coords=coords) as ordinal_regression_model:\n",
    "      # Define the design matrix (X)\n",
    "      X = pm.Data(\"X\", df[features].values,\n",
    "                  dims=[\"obs_id\", \"predictor\"])\n",
    "\n",
    "      # Priors\n",
    "      cutpoints = pm.Normal(\"cutpoints\", mu=[0, 0.5, 1, 1.5], sigma=1, shape=4,\n",
    "                          transform=pm.distributions.transforms.ordered)\n",
    "      beta_distributions = {} \n",
    "      # Create Normal distributions dynamically\n",
    "      for feature in features:\n",
    "          beta_name = 'beta_' + feature\n",
    "          beta_distributions[beta_name] = pm.Normal(str(beta_name), mu=0, sigma=1)\n",
    "\n",
    "      mu = 0\n",
    "      # Linear model with beta0 + linear combination of features-coefficients and feature-data\n",
    "      for feature in features:\n",
    "        mu += beta_distributions['beta_' + feature] * X[:, features.index(feature)]\n",
    "\n",
    "      # Likelihood\n",
    "      y_obs = pm.OrderedLogistic(\"y_obs\", eta=mu, cutpoints=cutpoints, observed=df['Main_Course_GradePoints'],dims=\"obs_id\")\n",
    "\n",
    "\n",
    "\n",
    "  # Inference\n",
    "  with ordinal_regression_model:\n",
    "      trace = pm.sample(4000, tune=2000,return_inferencedata=True, random_seed=rng)\n",
    "      pm.compute_log_likelihood(trace) # used for model comparison\n",
    "  \n",
    "      if cv == False:  \n",
    "        #save trace\n",
    "        trace.to_netcdf(\"./traces/\"+save_name+\"_ordinal_complete_pooling.nc\")\n",
    "\n",
    "  return trace, ordinal_regression_model"
   ]
  },
  {
   "cell_type": "markdown",
   "metadata": {},
   "source": [
    "## No Pooling Ordinal Logistic Regression"
   ]
  },
  {
   "cell_type": "code",
   "execution_count": null,
   "metadata": {},
   "outputs": [],
   "source": [
    "def no_pooling_ordinal(features, df, save_name:str, rng, cv=False):\n",
    "    instructor_idxs, instructors = pd.factorize(df.Instructor_ID)\n",
    "    num_instructors = len(instructors)\n",
    "\n",
    "    coords = {\n",
    "        \"instructor\": instructors,\n",
    "        \"obs_id\": np.arange(len(instructor_idxs)),\n",
    "        \"predictor\": features\n",
    "    }\n",
    "\n",
    "    with pm.Model(coords=coords) as ordinal_regression_model:\n",
    "        # Define instructor\n",
    "        instructor_idx = pm.Data(\"instructor_idx\", instructor_idxs, dims=\"obs_id\")\n",
    "\n",
    "        # Define the design matrix (X) with instructor-specific predictors\n",
    "        X = pm.Data(\"X\", df[features].values, dims=[\"obs_id\", \"predictor\"])\n",
    "\n",
    "        # Priors\n",
    "        # beta0 = pm.Normal(\"beta0\", 0, sigma=1, dims=\"instructor\")  # intercept varying by instructor\n",
    "        cutpoints = pm.Normal(\"thresholds\", mu=[0, 0.5, 1, 1.5], sigma=1, shape=(num_instructors,4),\n",
    "                          transform=pm.distributions.transforms.ordered,dims=(\"instructor\",\"cutpoints\"))\n",
    "\n",
    "        beta_distributions = {}\n",
    "        # Create Normal distributions dynamically\n",
    "        for feature in features:\n",
    "            beta_name = 'beta_' + feature\n",
    "            beta_distributions[beta_name] = pm.Normal(str(beta_name), 0, sigma=1, dims=\"instructor\")  # all betas varying by instructor\n",
    "\n",
    "        # Linear model\n",
    "        mu = 0 \n",
    "        for feature in features:\n",
    "            mu += beta_distributions['beta_' + feature][instructor_idx] * X[:, features.index(feature)]\n",
    "\n",
    "        # Likelihood\n",
    "        y_obs = pm.OrderedLogistic(\"y_obs\", eta=mu, cutpoints=cutpoints[instructor_idx, :], observed=df['Main_Course_GradePoints'], dims=\"obs_id\")\n",
    "\n",
    "    # Inference\n",
    "    with ordinal_regression_model:\n",
    "        trace = pm.sample(4000, tune=1000, return_inferencedata=True, random_seed=rng)\n",
    "        pm.compute_log_likelihood(trace)  # used for model comparison\n",
    "    \n",
    "        if cv == False:\n",
    "            #save trace\n",
    "            trace.to_netcdf(\"./traces/\"+save_name+\"_ordinal_no_pooling.nc\")\n",
    "    return trace, ordinal_regression_model"
   ]
  },
  {
   "cell_type": "markdown",
   "metadata": {},
   "source": [
    "## Multilevel Ordinal Logistic Regression (Hierarchical)"
   ]
  },
  {
   "cell_type": "code",
   "execution_count": null,
   "metadata": {},
   "outputs": [],
   "source": [
    "def multilevel_ordinal(features, df, save_name:str, rng, cv=False):\n",
    "    instructor_idxs, instructors = pd.factorize(df.Instructor_ID)\n",
    "    num_instructors = len(instructors)\n",
    "\n",
    "    coords = {\n",
    "        \"instructor\": instructors,\n",
    "        \"obs_id\": np.arange(len(instructor_idxs)),\n",
    "        \"predictor\": features\n",
    "    }\n",
    "\n",
    "    with pm.Model(coords=coords) as ordinal_regression_model:\n",
    "        # Define instructor\n",
    "        instructor_idx = pm.Data(\"instructor_idx\", instructor_idxs, dims=\"obs_id\")\n",
    "\n",
    "        # Define the design matrix (X) with instructor-specific predictors\n",
    "        X = pm.Data(\"X\", df[features].values, dims=[\"obs_id\", \"predictor\"])\n",
    "\n",
    "        # Hyperpriors for cutpoints\n",
    "        mu_cutpoints = pm.Normal(\"mu_cutpoints\", mu=[0, 0.5, 1, 1.5], sigma=1, shape=4)\n",
    "        sigma_cutpoints = pm.HalfNormal(\"sigma_cutpoints\", sigma=1, shape=4)\n",
    "        \n",
    "        # Priors for instructor-specific cutpoints\n",
    "        cutpoints_offset = pm.Normal(\"cutpoints_offset\", mu=[0, 0.5, 1, 1.5], sigma=1, \n",
    "                                     dims=(\"instructor\", \"cutpoints\"), \n",
    "                                     shape=(num_instructors, 4))\n",
    "        cutpoints = pm.Deterministic(\"thresholds\", mu_cutpoints + cutpoints_offset * sigma_cutpoints, \n",
    "                                     dims=(\"instructor\", \"cutpoints\"))\n",
    "\n",
    "\n",
    "        # Hyperpriors for intructor betas\n",
    "        hyperpriors_mu = {}\n",
    "        hyperpriors_sigma =  {}\n",
    "        for feature in features:\n",
    "            beta_name = 'beta_' + feature\n",
    "            hyperpriors_mu[beta_name] = pm.Normal(str(beta_name)+'_mu', mu=0, sigma=1)\n",
    "            hyperpriors_sigma[beta_name] = pm.HalfNormal(str(beta_name)+'_sigma', 1)\n",
    "\n",
    "        # Priors  \n",
    "        # mu and sigma follows from multilevel and intercept varying by instructor\n",
    "        beta_distributions = {}\n",
    "        # Create Normal distributions dynamically\n",
    "        for feature in features:\n",
    "            beta_name = 'beta_' + feature\n",
    "            beta_j_offset = pm.Normal(str(beta_name)+'_offset', mu=0, sigma=1, dims=\"instructor\")\n",
    "            beta_distributions[beta_name] = pm.Deterministic(str(beta_name), hyperpriors_mu[beta_name] + beta_j_offset * hyperpriors_sigma[beta_name], dims=\"instructor\")\n",
    "\n",
    "        # Linear model\n",
    "        mu = 0\n",
    "        for feature in features:\n",
    "            mu += beta_distributions['beta_' + feature][instructor_idx] * X[:, features.index(feature)]\n",
    "\n",
    "        # Likelihood\n",
    "        y_obs = pm.OrderedLogistic(\"y_obs\", eta=mu, cutpoints=cutpoints[instructor_idx, :], \n",
    "                                   observed=df['Main_Course_GradePoints'], dims=\"obs_id\")\n",
    "\n",
    "    # Inference\n",
    "    with ordinal_regression_model:\n",
    "        print(ordinal_regression_model.debug())\n",
    "        trace = pm.sample(4000, tune=1000, return_inferencedata=True, random_seed=rng, target_accept=0.99)\n",
    "        pm.compute_log_likelihood(trace)  # used for model comparison\n",
    "    \n",
    "        if cv == False:\n",
    "            #save trace\n",
    "            trace.to_netcdf(\"./traces/\"+save_name+\"_ordinal_multilevel.nc\")\n",
    "\n",
    "    return trace, ordinal_regression_model"
   ]
  },
  {
   "cell_type": "markdown",
   "metadata": {},
   "source": [
    "##### Run Genders"
   ]
  },
  {
   "cell_type": "code",
   "execution_count": null,
   "metadata": {},
   "outputs": [],
   "source": [
    "gender_features = ['Gender_Male', 'Gender_Female']\n",
    "# gender_complete_pooling_ordinal_trace, gender_complete_pooling_ordinal_model = complete_pooling_ordinal(gender_features, df, 'gender',rng)\n",
    "# gender_no_pooling_ordinal_trace, gender_no_pooling_ordinal_model = no_pooling_ordinal(gender_features, df, 'gender',rng)\n",
    "gender_multilevel_ordinal_trace, gender_multilevel_ordinal_model = multilevel_ordinal(gender_features, df, 'gender',rng)"
   ]
  },
  {
   "cell_type": "code",
   "execution_count": null,
   "metadata": {},
   "outputs": [],
   "source": [
    "gender_multilevel_ordinal_model.debug()"
   ]
  },
  {
   "cell_type": "code",
   "execution_count": null,
   "metadata": {},
   "outputs": [],
   "source": [
    "# Numerical Model Summary\n",
    "gender_cp_ordinal_summary = pm.summary(gender_no_pooling_ordinal_trace)"
   ]
  },
  {
   "cell_type": "code",
   "execution_count": null,
   "metadata": {},
   "outputs": [],
   "source": [
    "gender_cp_ordinal_summary"
   ]
  },
  {
   "cell_type": "code",
   "execution_count": null,
   "metadata": {},
   "outputs": [],
   "source": [
    "plot_parameters(gender_no_pooling_ordinal_trace)"
   ]
  },
  {
   "cell_type": "markdown",
   "metadata": {},
   "source": [
    "##### Run Ethnicity"
   ]
  },
  {
   "cell_type": "code",
   "execution_count": null,
   "metadata": {},
   "outputs": [],
   "source": [
    "# Features\n",
    "ethnicity_features = ['Ethnicity_White', 'Ethnicity_Asian', 'Ethnicity_Hispanic', 'Ethnicity_Mixed']\n",
    "# ethnicity_complete_pooling_ordinal_trace, ethnicity_complete_pooling_ordinal_model = complete_pooling_ordinal(ethnicity_features, df, 'gender',rng)\n",
    "# ethnicity_no_pooling_ordinal_trace, ethnicity_no_pooling_ordinal_model = no_pooling_ordinal(ethnicity_features, df, 'gender',rng)\n",
    "# ethnicity_multilevel_ordinal_trace, ethnicity_multilevel_ordinal_model = multilevel_ordinal(ethnicity_features, df, 'gender',rng)"
   ]
  },
  {
   "cell_type": "code",
   "execution_count": null,
   "metadata": {},
   "outputs": [],
   "source": [
    "# Numerical Model Summary\n",
    "ethnicity_cp_ordinal_summary = pm.summary(ethnicity_complete_pooling_ordinal_trace)\n"
   ]
  },
  {
   "cell_type": "code",
   "execution_count": null,
   "metadata": {},
   "outputs": [],
   "source": [
    "plot_parameters(ethnicity_complete_pooling_ordinal_trace)"
   ]
  },
  {
   "cell_type": "markdown",
   "metadata": {},
   "source": [
    "##### Run Adjusted"
   ]
  },
  {
   "cell_type": "code",
   "execution_count": null,
   "metadata": {},
   "outputs": [],
   "source": [
    "adjusted_features = ['Gender_Male', 'Gender_Female', 'Ethnicity_White', 'Ethnicity_Asian', 'Ethnicity_Hispanic', 'Ethnicity_Mixed','FinAid','Age','TermUnitsAttempted']\n",
    "                    #   'Age', 'FirstGen', 'Military', 'FosterYouth', 'DSPS','FinAid', 'Units_Attempted_Beg_Of_Term', \n",
    "                    #   'TermUnitsAttempted', 'K12_Student', 'First_Time_College_Student', 'Nonresident_Tuition_Exempt', 'International', 'Nonresident', \n",
    "                    #   'WR_Center', 'Online', 'N_Center_Visits', 'Center_Attendance_Hours', 'N_Conf', 'WR_Center_FailFlag']\n",
    "# adjusted_complete_pooling_ordinal_trace, adjusted_complete_pooling_ordinal_model = complete_pooling_ordinal(adjusted_features, df, 'adjusted', rng)\n",
    "# adjusted_no_pooling_ordinal_trace, adjusted_no_pooling_ordinal_model = no_pooling_ordinal(adjusted_features, df.iloc[0:50], 'adjusted', rng)\n",
    "adjusted_multilevel_ordinal_trace, adjusted_multilevel_ordinal_model = multilevel_ordinal(adjusted_features, df, 'adjusted', rng)"
   ]
  },
  {
   "cell_type": "code",
   "execution_count": null,
   "metadata": {},
   "outputs": [],
   "source": [
    "# Numerical Model Summary\n",
    "adjusted_cp_ordinal_summary = pm.summary(adjusted_multilevel_ordinal_trace)\n"
   ]
  },
  {
   "cell_type": "code",
   "execution_count": null,
   "metadata": {},
   "outputs": [],
   "source": [
    "plot_parameters(adjusted_multilevel_ordinal_trace, adjusted_features)"
   ]
  },
  {
   "cell_type": "markdown",
   "metadata": {},
   "source": []
  }
 ],
 "metadata": {
  "kernelspec": {
   "display_name": "stats",
   "language": "python",
   "name": "python3"
  },
  "language_info": {
   "codemirror_mode": {
    "name": "ipython",
    "version": 3
   },
   "file_extension": ".py",
   "mimetype": "text/x-python",
   "name": "python",
   "nbconvert_exporter": "python",
   "pygments_lexer": "ipython3",
   "version": "3.10.4"
  }
 },
 "nbformat": 4,
 "nbformat_minor": 2
}
