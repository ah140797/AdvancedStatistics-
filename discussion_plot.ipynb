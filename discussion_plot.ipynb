{
 "cells": [
  {
   "cell_type": "code",
   "execution_count": 62,
   "metadata": {},
   "outputs": [],
   "source": [
    "import pandas as pd\n",
    "import matplotlib.pyplot as plt\n",
    "import numpy as np\n",
    "import pyarrow as pa\n",
    "import pyarrow.parquet as pq\n",
    "import itertools\n",
    "import re"
   ]
  },
  {
   "cell_type": "code",
   "execution_count": 313,
   "metadata": {},
   "outputs": [],
   "source": [
    "gender_cp = pd.read_parquet('./data/gender_complete_pooling.parquet')\n",
    "ethnicity_cp = pd.read_parquet('./data/ethnicity_complete_pooling.parquet')\n",
    "adjusted_cp = pd.read_parquet('./data/adjusted_complete_pooling.parquet')\n",
    "\n",
    "gender_np = pd.read_parquet('./data/gender_no_pooling.parquet')\n",
    "ethnicity_np = pd.read_parquet('./data/ethnicity_no_pooling.parquet')\n",
    "adjusted_np = pd.read_parquet('./data/adjusted_no_pooling.parquet')\n",
    "\n",
    "gender_ml = pd.read_parquet('./data/gender_multilevel.parquet')\n",
    "ethnicity_ml = pd.read_parquet('./data/ethnicity_multilevel.parquet')\n",
    "adjusted_ml = pd.read_parquet('./data/adjusted_multilevel.parquet')"
   ]
  },
  {
   "cell_type": "code",
   "execution_count": 314,
   "metadata": {},
   "outputs": [],
   "source": [
    "df = pd.read_csv('./data/writing_center_v2.csv')"
   ]
  },
  {
   "cell_type": "code",
   "execution_count": 315,
   "metadata": {},
   "outputs": [],
   "source": [
    "male = gender_np.filter(like='beta_Gender_Male')\n",
    "female = gender_np.filter(like='beta_Gender_Female')\n",
    "white = ethnicity_np.filter(like='beta_Ethnicity_White')\n",
    "asian = ethnicity_np.filter(like='beta_Ethnicity_Asian')\n",
    "hispanic = ethnicity_np.filter(like='beta_Ethnicity_Hispanic')\n",
    "mixed = ethnicity_np.filter(like='beta_Ethnicity_Mixed')\n",
    "\n",
    "male_ml = gender_ml.filter(like='beta_Gender_Male').filter(like='e[')\n",
    "female_ml = gender_ml.filter(like='beta_Gender_Female').filter(like='e[')\n",
    "white_ml = ethnicity_ml.filter(like='beta_Ethnicity_White').filter(like='e[')\n",
    "asian_ml = ethnicity_ml.filter(like='beta_Ethnicity_Asian').filter(like='n[')\n",
    "hispanic_ml = ethnicity_ml.filter(like='beta_Ethnicity_Hispanic').filter(like='c[')\n",
    "mixed_ml = ethnicity_ml.filter(like='beta_Ethnicity_Mixed').filter(like='d[')"
   ]
  },
  {
   "cell_type": "code",
   "execution_count": 282,
   "metadata": {},
   "outputs": [],
   "source": [
    "male_a = adjusted_np.filter(like='beta_Gender_Male')\n",
    "female_a = adjusted_np.filter(like='beta_Gender_Female')\n",
    "white_a = adjusted_np.filter(like='beta_Ethnicity_White')\n",
    "asian_a = adjusted_np.filter(like='beta_Ethnicity_Asian')\n",
    "hispanic_a = adjusted_np.filter(like='beta_Ethnicity_Hispanic')\n",
    "mixed_a = adjusted_np.filter(like='beta_Ethnicity_Mixed')\n",
    "\n",
    "male_a_ml = adjusted_ml.filter(like='beta_Gender_Male').filter(like='e[')\n",
    "female_a_ml = adjusted_ml.filter(like='beta_Gender_Female').filter(like='e[')\n",
    "white_a_ml = adjusted_ml.filter(like='beta_Ethnicity_White').filter(like='e[')\n",
    "asian_a_ml = adjusted_ml.filter(like='beta_Ethnicity_Asian').filter(like='n[')\n",
    "hispanic_a_ml = adjusted_ml.filter(like='beta_Ethnicity_Hispanic').filter(like='c[')\n",
    "mixed_a_ml = adjusted_ml.filter(like='beta_Ethnicity_Mixed').filter(like='d[')"
   ]
  },
  {
   "cell_type": "code",
   "execution_count": 316,
   "metadata": {},
   "outputs": [],
   "source": [
    "def calculate_std_feature(df):\n",
    "    result_dict = {'instructor_num': None,\n",
    "                   'std_': None \n",
    "                   } \n",
    "    nums = []\n",
    "    stds = []\n",
    "    for teacher in df.columns:\n",
    "        instructor_num = re.findall(r'\\[(\\d+)\\]', teacher)\n",
    "        instructor_num = instructor_num[0] if instructor_num else None\n",
    "        std = df[teacher].std()\n",
    "        \n",
    "        nums.append(instructor_num)\n",
    "        stds.append(std)\n",
    "        \n",
    "        \n",
    "    result_dict['instructor_num'] = nums\n",
    "    result_dict['std_'] = stds\n",
    "        \n",
    "    result_df = pd.DataFrame(result_dict)\n",
    "    \n",
    "    return result_df"
   ]
  },
  {
   "cell_type": "code",
   "execution_count": 317,
   "metadata": {},
   "outputs": [],
   "source": [
    "instructor_count = pd.DataFrame(df.groupby('Instructor_ID').size())\n",
    "instructor_count = instructor_count.reset_index()\n",
    "instructor_count.rename(columns={0: 'count'}, inplace=True)\n",
    "\n",
    "instructor_idxs, instructors = pd.factorize(df.Instructor_ID)\n",
    "df['instructor_num'] = instructor_idxs\n",
    "instructor_map = df[['Instructor_ID', 'instructor_num']].drop_duplicates()\n",
    "instructor_map = pd.merge(instructor_map, instructor_count)"
   ]
  },
  {
   "cell_type": "code",
   "execution_count": 318,
   "metadata": {},
   "outputs": [],
   "source": [
    "#Non adjusted\n",
    "for _ in [male, female, white, asian, hispanic, mixed]:\n",
    "    name = re.findall(r'beta_([^_]+)_(\\w+)', str(_.columns[0]))[0][1]\n",
    "    res = calculate_std_feature(_)\n",
    "    res.rename(columns={'std_': 'std_'+name}, inplace=True)\n",
    "    res['instructor_num'] = pd.to_numeric(res['instructor_num'], errors='coerce', downcast='integer')\n",
    "    instructor_map = pd.merge(instructor_map, res, on='instructor_num', how='left')\n",
    "    \n",
    "for _ in [male_ml, female_ml, white_ml, asian_ml, hispanic_ml, mixed_ml]:\n",
    "    name = re.findall(r'beta_([^_]+)_(\\w+)', str(_.columns[0]))[0][1]+'_ml'\n",
    "    res = calculate_std_feature(_)\n",
    "    res.rename(columns={'std_': 'std_'+name}, inplace=True)\n",
    "    res['instructor_num'] = pd.to_numeric(res['instructor_num'], errors='coerce', downcast='integer')\n",
    "    instructor_map = pd.merge(instructor_map, res, on='instructor_num', how='left')"
   ]
  },
  {
   "cell_type": "code",
   "execution_count": 284,
   "metadata": {},
   "outputs": [],
   "source": [
    "#Adjusted\n",
    "# for _ in [male_a, female_a, white_a, asian_a, hispanic_a, mixed_a]:\n",
    "#     name = re.findall(r'beta_([^_]+)_(\\w+)', str(_.columns[0]))[0][1]\n",
    "#     res = calculate_std_feature(_)\n",
    "#     res.rename(columns={'std_': 'std_'+name}, inplace=True)\n",
    "#     res['instructor_num'] = pd.to_numeric(res['instructor_num'], errors='coerce', downcast='integer')\n",
    "#     instructor_map = pd.merge(instructor_map, res, on='instructor_num', how='left')\n",
    "    \n",
    "# for _ in [male_a_ml, female_a_ml, white_a_ml, asian_a_ml, hispanic_a_ml, mixed_a_ml]:\n",
    "#     name = re.findall(r'beta_([^_]+)_(\\w+)', str(_.columns[0]))[0][1]+'_ml'\n",
    "#     res = calculate_std_feature(_)\n",
    "#     res.rename(columns={'std_': 'std_'+name}, inplace=True)\n",
    "#     res['instructor_num'] = pd.to_numeric(res['instructor_num'], errors='coerce', downcast='integer')\n",
    "#     instructor_map = pd.merge(instructor_map, res, on='instructor_num', how='left')"
   ]
  },
  {
   "cell_type": "markdown",
   "metadata": {},
   "source": [
    "# Plot"
   ]
  },
  {
   "cell_type": "code",
   "execution_count": 287,
   "metadata": {},
   "outputs": [
    {
     "data": {
      "image/png": "[encoded data removed]",
      "text/plain": [
       "<Figure size 504x216 with 6 Axes>"
      ]
     },
     "metadata": {
      "needs_background": "light"
     },
     "output_type": "display_data"
    }
   ],
   "source": [
    "categories = ['std_Male', 'std_Female', 'std_White', 'std_Asian', 'std_Hispanic', 'std_Mixed']\n",
    "\n",
    "nrows, ncols = 2, 3\n",
    "\n",
    "# Create subplots with shared y-axis\n",
    "fig, axes = plt.subplots(nrows=nrows, ncols=ncols, figsize=(7, 3), sharey=True)\n",
    "\n",
    "# Flatten the axes for easy iteration\n",
    "axes = axes.flatten()\n",
    "\n",
    "# List of categories\n",
    "categories = ['std_Male', 'std_Female', 'std_White', 'std_Asian', 'std_Hispanic', 'std_Mixed']\n",
    "\n",
    "i = 0\n",
    "# Iterate over subplots and plot each category\n",
    "for ax, category in zip(axes, categories):\n",
    "    ax.scatter(instructor_map['count'], instructor_map[category], color=\"#E1AF00\", edgecolor='black',s=15)\n",
    "    ax.set_title(category.split('_')[-1], fontsize=8)\n",
    "    if i == 0:\n",
    "        ax.set_xlabel('')\n",
    "        ax.set_ylabel('Standard Deviation', fontsize=7)\n",
    "        \n",
    "    elif i == 1:\n",
    "        ax.set_xlabel('')\n",
    "        ax.set_ylabel('')\n",
    "    \n",
    "    elif i == 2:\n",
    "        ax.set_xlabel('')\n",
    "        ax.set_ylabel('')\n",
    "        \n",
    "    elif i == 3:\n",
    "        ax.set_xlabel('Number of students', fontsize=7)\n",
    "        ax.set_ylabel('Standard Deviation', fontsize=7)\n",
    "        \n",
    "    elif i == 4:\n",
    "        ax.set_xlabel('Number of students', fontsize=7)\n",
    "        ax.set_ylabel('')\n",
    "        \n",
    "    elif i== 5:\n",
    "        ax.set_xlabel('Number of students', fontsize=7)\n",
    "        ax.set_ylabel('')\n",
    "    \n",
    "     \n",
    "    elif i== 6:\n",
    "        ax.set_xlabel('Number of students', fontsize=7)\n",
    "        ax.set_ylabel('')\n",
    "    i += 1\n",
    "\n",
    "    \n",
    "    ax.tick_params(axis='both', which='both', labelsize=7)\n",
    "    \n",
    "\n",
    "\n",
    "#plt.suptitle('A', x=0.1, y=0.95, ha='left', fontsize=16)\n",
    "# Adjust layout for better spacing\n",
    "plt.tight_layout()\n",
    "\n",
    "#plt.savefig('output_a.svg', format='svg')\n",
    "\n",
    "# Show the plot\n",
    "plt.show()"
   ]
  },
  {
   "cell_type": "code",
   "execution_count": 286,
   "metadata": {},
   "outputs": [
    {
     "data": {
      "image/png": "[encoded data removed]",
      "text/plain": [
       "<Figure size 504x216 with 6 Axes>"
      ]
     },
     "metadata": {
      "needs_background": "light"
     },
     "output_type": "display_data"
    }
   ],
   "source": [
    "categories = ['std_Male_ml', 'std_Female_ml', 'std_White_ml', 'std_Asian_ml', 'std_Hispanic_ml', 'std_Mixed_ml']\n",
    "\n",
    "nrows, ncols = 2, 3\n",
    "\n",
    "# Create subplots with shared y-axis\n",
    "fig, axes = plt.subplots(nrows=nrows, ncols=ncols, figsize=(7, 3), sharey=True)\n",
    "\n",
    "# Flatten the axes for easy iteration\n",
    "axes = axes.flatten()\n",
    "\n",
    "# Iterate over subplots and plot each category\n",
    "i = 0\n",
    "for ax, category in zip(axes, categories):\n",
    "    ax.scatter(instructor_map['count'], instructor_map[category], color=\"#3B9AB2\", edgecolor='black',s=8)\n",
    "    ax.set_title(category.split('_')[-2], fontsize=8)\n",
    "    if i == 0:\n",
    "        ax.set_xlabel('')\n",
    "        ax.set_ylabel('Standard Deviation', fontsize=7)\n",
    "        \n",
    "    elif i == 1:\n",
    "        ax.set_xlabel('')\n",
    "        ax.set_ylabel('')\n",
    "    \n",
    "    elif i == 2:\n",
    "        ax.set_xlabel('')\n",
    "        ax.set_ylabel('')\n",
    "        \n",
    "    elif i == 3:\n",
    "        ax.set_xlabel('Number of students', fontsize=7)\n",
    "        ax.set_ylabel('Standard Deviation', fontsize=7)\n",
    "        \n",
    "    elif i == 4:\n",
    "        ax.set_xlabel('Number of students', fontsize=7)\n",
    "        ax.set_ylabel('')\n",
    "        \n",
    "    elif i== 5:\n",
    "        ax.set_xlabel('Number of students', fontsize=7)\n",
    "        ax.set_ylabel('')\n",
    "    \n",
    "     \n",
    "    elif i== 6:\n",
    "        ax.set_xlabel('Number of students', fontsize=7)\n",
    "        ax.set_ylabel('')\n",
    "    i += 1\n",
    "\n",
    "    \n",
    "    ax.tick_params(axis='both', which='both', labelsize=7)\n",
    "    \n",
    "\n",
    "\n",
    "\n",
    "plt.suptitle('B', x=0.1, y=0.95, ha='left', fontsize=16)\n",
    "# Adjust layout for better spacing\n",
    "plt.tight_layout()\n",
    "\n",
    "plt.savefig('output2_a.svg', format='svg')\n",
    "\n",
    "# Show the plot\n",
    "plt.show()"
   ]
  }
 ],
 "metadata": {
  "kernelspec": {
   "display_name": "Python 3",
   "language": "python",
   "name": "python3"
  },
  "language_info": {
   "codemirror_mode": {
    "name": "ipython",
    "version": 3
   },
   "file_extension": ".py",
   "mimetype": "text/x-python",
   "name": "python",
   "nbconvert_exporter": "python",
   "pygments_lexer": "ipython3",
   "version": "3.11.5"
  }
 },
 "nbformat": 4,
 "nbformat_minor": 2
}
